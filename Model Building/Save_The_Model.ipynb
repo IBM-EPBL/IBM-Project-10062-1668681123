{
  "nbformat": 4,
  "nbformat_minor": 0,
  "metadata": {
    "colab": {
      "provenance": []
    },
    "kernelspec": {
      "name": "python3",
      "display_name": "Python 3"
    },
    "language_info": {
      "name": "python"
    }
  },
  "cells": [
    {
      "cell_type": "code",
      "source": [
        "from tensorflow.keras.models import load_model\n",
        "model.save(\"crude_oil.h5\")"
      ],
      "metadata": {
        "id": "BjoKz6-e2etY"
      },
      "execution_count": 32,
      "outputs": []
    }
  ]
}